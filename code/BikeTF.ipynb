{
 "cells": [
  {
   "cell_type": "markdown",
   "metadata": {},
   "source": [
    "## 整理資料"
   ]
  },
  {
   "cell_type": "code",
   "execution_count": 1,
   "metadata": {},
   "outputs": [
    {
     "name": "stdout",
     "output_type": "stream",
     "text": [
      "(731, 14)\n"
     ]
    }
   ],
   "source": [
    "import numpy as np\n",
    "data=[]\n",
    "with open('BikeSharingData/day.csv','r') as f:\n",
    "    f.readline () # skip first row\n",
    "    for line in f:\n",
    "        columns = line.strip (). split (',')\n",
    "        # from season to cnt\n",
    "        data.append ( columns [2:])\n",
    "    \n",
    "data_mat = np.asarray (data , dtype=np. float32 )\n",
    "print(data_mat.shape)"
   ]
  },
  {
   "cell_type": "markdown",
   "metadata": {},
   "source": [
    "### 讀取，保存"
   ]
  },
  {
   "cell_type": "code",
   "execution_count": 2,
   "metadata": {},
   "outputs": [
    {
     "name": "stdout",
     "output_type": "stream",
     "text": [
      "(731, 14)\n",
      "[  1.00000000e+00   0.00000000e+00   1.00000000e+00   0.00000000e+00\n",
      "   6.00000000e+00   0.00000000e+00   2.00000000e+00   3.44166994e-01\n",
      "   3.63624990e-01   8.05832982e-01   1.60446003e-01   3.31000000e+02\n",
      "   6.54000000e+02   9.85000000e+02]\n"
     ]
    }
   ],
   "source": [
    "np.save('BikeSharingData/day.npy', data_mat)\n",
    "data_restore = np.load('BikeSharingData/day.npy')\n",
    "print ( data_restore . shape )\n",
    "print ( data_restore [0,:])\n",
    "#print ( data_restore [:,-1])"
   ]
  },
  {
   "cell_type": "markdown",
   "metadata": {},
   "source": [
    "### 劃分訓練/測試集"
   ]
  },
  {
   "cell_type": "code",
   "execution_count": 3,
   "metadata": {},
   "outputs": [
    {
     "name": "stdout",
     "output_type": "stream",
     "text": [
      "(631, 14)\n",
      "(100, 14)\n"
     ]
    }
   ],
   "source": [
    "# only train set and test set\n",
    "tr = data_restore[0:-100 ,:]\n",
    "ts = data_restore[-100:,:]\n",
    "print (tr.shape)\n",
    "print (ts.shape)"
   ]
  },
  {
   "cell_type": "markdown",
   "metadata": {},
   "source": [
    "### 資料正規化"
   ]
  },
  {
   "cell_type": "code",
   "execution_count": 4,
   "metadata": {},
   "outputs": [
    {
     "name": "stdout",
     "output_type": "stream",
     "text": [
      "[-1.28823662 -0.8536787  -1.51293707 -0.16639513  1.49614835 -1.4788053\n",
      "  1.14527106 -0.88649201 -0.7392835   1.24404705 -0.41143009 -0.75909895\n",
      " -1.91749656 -1.7839427 ]\n"
     ]
    }
   ],
   "source": [
    "mean = np.mean(tr , axis=0)\n",
    "stdv = np.std(tr , axis=0)\n",
    "tr = (tr - mean) / stdv\n",
    "ts = (ts - mean) / stdv\n",
    "print (tr[0,:]) # 第一筆"
   ]
  },
  {
   "cell_type": "code",
   "execution_count": 5,
   "metadata": {},
   "outputs": [
    {
     "name": "stdout",
     "output_type": "stream",
     "text": [
      "(631, 11) (631, 1)\n"
     ]
    }
   ],
   "source": [
    "### 準備輸入輸出\n",
    "x_train , y_train = tr[:, 0:11], tr[:, -1:]\n",
    "x_test , y_test = ts[:,0:11 ,], ts[:, -1:]\n",
    "print ( x_train.shape, y_train.shape )"
   ]
  },
  {
   "cell_type": "markdown",
   "metadata": {},
   "source": [
    "## 設計模型架構"
   ]
  },
  {
   "cell_type": "code",
   "execution_count": 6,
   "metadata": {
    "collapsed": true
   },
   "outputs": [],
   "source": [
    "import tensorflow as tf\n",
    "feat_dim, hid_dim , out_dim = x_train.shape[1], 16 , 1\n",
    "W_1 = tf. Variable (tf. random_normal ([feat_dim , hid_dim ], stddev =1.0), name=\"W_1\")\n",
    "b_1 = tf. Variable (tf. zeros ([ hid_dim ]), name=\"b_1\")\n",
    "W_2 = tf. Variable (tf. random_normal ([hid_dim , hid_dim ], stddev =1.0), name=\"W_2\")\n",
    "b_2 = tf. Variable (tf. zeros ([ hid_dim ]), name=\"b_2\")\n",
    "W_o = tf. Variable (tf. random_normal ([hid_dim , out_dim ], stddev =1.0), name=\"W_o\")\n",
    "x = tf. placeholder (dtype=tf.float32 , shape =(None ,feat_dim ), name=\"x\")\n",
    "h1 = tf. sigmoid (tf. matmul (x, W_1)+b_1)\n",
    "h2 = tf. sigmoid (tf. matmul (h1 , W_2)+b_2)\n",
    "y = tf. matmul (h2 , W_o , name='output')"
   ]
  },
  {
   "cell_type": "markdown",
   "metadata": {},
   "source": [
    "## 減損函數"
   ]
  },
  {
   "cell_type": "code",
   "execution_count": 7,
   "metadata": {},
   "outputs": [
    {
     "name": "stdout",
     "output_type": "stream",
     "text": [
      "(?, 1) (?, 1)\n"
     ]
    }
   ],
   "source": [
    "y_true = tf.placeholder ( dtype=tf.float32, shape =(None , 1))\n",
    "loss = tf.reduce_mean ((0.5)*tf.pow(y-y_true , 2))\n",
    "# Check y and y_true\n",
    "print (y.shape , y_true . shape )"
   ]
  },
  {
   "cell_type": "markdown",
   "metadata": {},
   "source": [
    "## 模型訓練，參數搜尋\n",
    "### 定義學習步伐"
   ]
  },
  {
   "cell_type": "code",
   "execution_count": 8,
   "metadata": {
    "collapsed": true
   },
   "outputs": [],
   "source": [
    "batch_size , n_samples = 8, x_train.shape[0]\n",
    "decay_steps = n_samples / batch_size\n",
    "global_step = tf.Variable(0, trainable = False )\n",
    "learning_rate = tf.train.exponential_decay(0.1, global_step, decay_steps, decay_rate =0.5)"
   ]
  },
  {
   "cell_type": "markdown",
   "metadata": {},
   "source": [
    "### SGD+Momentum"
   ]
  },
  {
   "cell_type": "code",
   "execution_count": 9,
   "metadata": {
    "collapsed": true
   },
   "outputs": [],
   "source": [
    "optimizer = tf.train . MomentumOptimizer(learning_rate, momentum =0.9)\n",
    "train_step = optimizer.minimize(loss, global_step)\n",
    "#train_step = tf.train.AdamOptimizer().minimize(loss)"
   ]
  },
  {
   "cell_type": "markdown",
   "metadata": {},
   "source": [
    "### Session"
   ]
  },
  {
   "cell_type": "code",
   "execution_count": 10,
   "metadata": {},
   "outputs": [
    {
     "name": "stdout",
     "output_type": "stream",
     "text": [
      "epoch 01: tr_loss =0.175803, ts_loss =0.313513\n",
      "epoch 02: tr_loss =0.092853, ts_loss =0.200503\n",
      "epoch 03: tr_loss =0.080718, ts_loss =0.190369\n",
      "epoch 04: tr_loss =0.077670, ts_loss =0.190243\n",
      "epoch 05: tr_loss =0.076431, ts_loss =0.190438\n",
      "epoch 06: tr_loss =0.075913, ts_loss =0.190448\n",
      "epoch 07: tr_loss =0.075666, ts_loss =0.190440\n",
      "epoch 08: tr_loss =0.075544, ts_loss =0.190433\n",
      "epoch 09: tr_loss =0.075484, ts_loss =0.190429\n",
      "epoch 10: tr_loss =0.075455, ts_loss =0.190427\n",
      "epoch 11: tr_loss =0.075440, ts_loss =0.190426\n",
      "epoch 12: tr_loss =0.075432, ts_loss =0.190425\n",
      "epoch 13: tr_loss =0.075429, ts_loss =0.190425\n",
      "epoch 14: tr_loss =0.075427, ts_loss =0.190425\n",
      "epoch 15: tr_loss =0.075426, ts_loss =0.190425\n"
     ]
    }
   ],
   "source": [
    "saver = tf.train.Saver()\n",
    "sess_config = tf.ConfigProto(\n",
    "    allow_soft_placement = True,\n",
    "    log_device_placement = True)\n",
    "with tf.Session ( config = sess_config ) as sess:\n",
    "    sess.run(tf.global_variables_initializer())\n",
    "    idx = np.arange( n_samples ) # 0, 1, 2 ,... n_sample -1\n",
    "    np.random.shuffle (idx)\n",
    "    for epoch in range (1,16): # 1 ~ 15\n",
    "        for beg in range (0, n_samples , batch_size):\n",
    "            x_batch = x_train[idx[beg:beg+ batch_size],]\n",
    "            y_batch = y_train[idx[beg:beg+ batch_size],]\n",
    "            sess.run(train_step, feed_dict ={x: x_batch , y_true : y_batch })\n",
    "        tr_loss = sess.run(loss , feed_dict ={x: x_train , y_true : y_train })\n",
    "        ts_loss = sess.run(loss , feed_dict ={x: x_test , y_true : y_test })\n",
    "        print (\"epoch %02d: tr_loss =%f, ts_loss =%f\" % (epoch , tr_loss , ts_loss ))\n",
    "        saver .save(sess , \"Model/bike.epoch_%02d\" % (epoch ))"
   ]
  },
  {
   "cell_type": "markdown",
   "metadata": {},
   "source": [
    "## 觀察結果"
   ]
  },
  {
   "cell_type": "code",
   "execution_count": 11,
   "metadata": {},
   "outputs": [
    {
     "name": "stdout",
     "output_type": "stream",
     "text": [
      "INFO:tensorflow:Restoring parameters from Model/bike.epoch_14\n"
     ]
    }
   ],
   "source": [
    "with tf. Session () as sess:\n",
    "    saver. restore (sess , \"Model/bike.epoch_14\")\n",
    "    y_pred = sess.run(y, feed_dict ={x: x_test , y_true :y_test })\n",
    "    \n",
    "cnt_pred = y_pred * stdv[-1] + mean[-1]\n",
    "cnt_true = y_test * stdv[-1] + mean[-1]"
   ]
  },
  {
   "cell_type": "code",
   "execution_count": 12,
   "metadata": {},
   "outputs": [
    {
     "data": {
      "image/png": "[encoded data removed]",
      "text/plain": [
       "<matplotlib.figure.Figure at 0x7f4fbbd1bac8>"
      ]
     },
     "metadata": {},
     "output_type": "display_data"
    }
   ],
   "source": [
    "import matplotlib.pyplot as plt\n",
    "plt.rcParams[\"figure.figsize\"] = [8,6]\n",
    "day = range(100)\n",
    "plt.plot(day , cnt_pred , label='predict')\n",
    "plt.hold(True)\n",
    "plt.plot(day , cnt_true , label='target')\n",
    "plt.legend()\n",
    "plt.savefig('BikeSharing.png')\n",
    "plt.show()"
   ]
  },
  {
   "cell_type": "code",
   "execution_count": null,
   "metadata": {
    "collapsed": true
   },
   "outputs": [],
   "source": []
  }
 ],
 "metadata": {
  "kernelspec": {
   "display_name": "Python 3",
   "language": "python",
   "name": "python3"
  },
  "language_info": {
   "codemirror_mode": {
    "name": "ipython",
    "version": 3
   },
   "file_extension": ".py",
   "mimetype": "text/x-python",
   "name": "python",
   "nbconvert_exporter": "python",
   "pygments_lexer": "ipython3",
   "version": "3.5.2"
  }
 },
 "nbformat": 4,
 "nbformat_minor": 2
}
